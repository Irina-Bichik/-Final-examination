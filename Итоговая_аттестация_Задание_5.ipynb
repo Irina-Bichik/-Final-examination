{
  "nbformat": 4,
  "nbformat_minor": 0,
  "metadata": {
    "colab": {
      "provenance": [],
      "authorship_tag": "ABX9TyPDmSXP8+lmCIGUoTyDGXj9",
      "include_colab_link": true
    },
    "kernelspec": {
      "name": "python3",
      "display_name": "Python 3"
    },
    "language_info": {
      "name": "python"
    }
  },
  "cells": [
    {
      "cell_type": "markdown",
      "metadata": {
        "id": "view-in-github",
        "colab_type": "text"
      },
      "source": [
        "<a href=\"https://colab.research.google.com/github/Irina-Bichik/-Final-examination/blob/main/%D0%98%D1%82%D0%BE%D0%B3%D0%BE%D0%B2%D0%B0%D1%8F_%D0%B0%D1%82%D1%82%D0%B5%D1%81%D1%82%D0%B0%D1%86%D0%B8%D1%8F_%D0%97%D0%B0%D0%B4%D0%B0%D0%BD%D0%B8%D0%B5_5.ipynb\" target=\"_parent\"><img src=\"https://colab.research.google.com/assets/colab-badge.svg\" alt=\"Open In Colab\"/></a>"
      ]
    },
    {
      "cell_type": "code",
      "execution_count": 1,
      "metadata": {
        "id": "kSQEksXOpVl_"
      },
      "outputs": [],
      "source": [
        "import numpy as np\n",
        "import math\n",
        "import scipy.stats as stats"
      ]
    },
    {
      "cell_type": "markdown",
      "source": [
        "Мы провели АБ-тест на увеличение average timespent  per user. По итогам тестирования мы получили следующие данные. Является ли результат статистически значимым с уровнем доверия 80%? Какую версию мы выкатим на продакшн?\n",
        "\n",
        "A) Средняя - 360, отклонение - 40, количество - 9802\n",
        "\n",
        "B) Средняя - 352, отклонение - 58, количество – 9789\n"
      ],
      "metadata": {
        "id": "QK8p2_dVplTj"
      }
    },
    {
      "cell_type": "markdown",
      "source": [
        "Н0 - средние значения времени пользователей на версии А и версии В равны\n",
        "\n",
        "Н1 - средние значения времени пользователей на версии А и версии В различаются"
      ],
      "metadata": {
        "id": "2PcSMejKpzAM"
      }
    },
    {
      "cell_type": "markdown",
      "source": [
        "Используем t-критерий Стьюдента"
      ],
      "metadata": {
        "id": "PTIsjmwoqjPg"
      }
    },
    {
      "cell_type": "markdown",
      "source": [
        "Вычислим стандартную ошибку среднего для версий А и В"
      ],
      "metadata": {
        "id": "g4LSeKdwquYX"
      }
    },
    {
      "cell_type": "code",
      "source": [
        "X_A = 360\n",
        "σ_A = 40\n",
        "n_A = 9802\n",
        "X_B = 352\n",
        "σ_B = 58\n",
        "n_B = 9789"
      ],
      "metadata": {
        "id": "3ZpiPXv8riMO"
      },
      "execution_count": 8,
      "outputs": []
    },
    {
      "cell_type": "code",
      "source": [
        "SE_A = σ_A/math.sqrt (n_A)\n",
        "SE_B = σ_B/math.sqrt (n_B)\n",
        "\n",
        "print (f'SE версия A: {round(SE_A,3)}')\n",
        "print (f'SE версия B: {round(SE_B,3)}')\n"
      ],
      "metadata": {
        "colab": {
          "base_uri": "https://localhost:8080/"
        },
        "id": "nEbpfxV1pmYF",
        "outputId": "1763afb8-fff9-4f46-9d2e-2bee08f2baa2"
      },
      "execution_count": 7,
      "outputs": [
        {
          "output_type": "stream",
          "name": "stdout",
          "text": [
            "SE версия A: 0.404\n",
            "SE версия B: 0.586\n"
          ]
        }
      ]
    },
    {
      "cell_type": "markdown",
      "source": [
        "Вычислим t-статистику"
      ],
      "metadata": {
        "id": "X5K95t4Ft6Dt"
      }
    },
    {
      "cell_type": "code",
      "source": [
        "t = (X_A-X_B)/(math.sqrt(SE_A**2+SE_B**2))\n",
        "print (f' Расчетное значение t = {t: .3f}')"
      ],
      "metadata": {
        "colab": {
          "base_uri": "https://localhost:8080/"
        },
        "id": "NfWQ4eXduATh",
        "outputId": "b001bad7-60a5-4f39-d166-ffbfac115a67"
      },
      "execution_count": 13,
      "outputs": [
        {
          "output_type": "stream",
          "name": "stdout",
          "text": [
            " Расчетное значение t =  11.237\n"
          ]
        }
      ]
    },
    {
      "cell_type": "code",
      "source": [
        "df = n_A+n_B-2\n",
        "print (f' Степень свободы df = {df: .0f}')"
      ],
      "metadata": {
        "colab": {
          "base_uri": "https://localhost:8080/"
        },
        "id": "8A9CGvNq0DKO",
        "outputId": "07cdfe85-ee27-43b8-dc61-cbdc89ebbfcf"
      },
      "execution_count": 23,
      "outputs": [
        {
          "output_type": "stream",
          "name": "stdout",
          "text": [
            " Степень свободы df =  19589\n"
          ]
        }
      ]
    },
    {
      "cell_type": "markdown",
      "source": [
        "Для уровня доверия 80% и степеней свободы 19589 критическое значение t- статистики по таблице равно 1,282"
      ],
      "metadata": {
        "id": "LjM2rk830rKS"
      }
    },
    {
      "cell_type": "markdown",
      "source": [
        "Так как расчетное значение t-статистики больше критического значения (11,237 > 1.282), то принимается альтернативная гипотеза Н1 о том, что средние значения времени, проведенного пользователями на версиях А и В различаются. Результат является статистически значимым с уровнем доверия 80%. Следовательно мы выкатим в продакшн версию А."
      ],
      "metadata": {
        "id": "wVfkrEOn8qLD"
      }
    }
  ]
}